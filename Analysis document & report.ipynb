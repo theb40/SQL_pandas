{
    "cells": [
        {
            "cell_type": "code",
            "execution_count": 2,
            "metadata": {},
            "outputs": [],
            "source": [
                "import pandas as pd  # type: ignore\n",
                "from pandasql import sqldf # type: ignore\n",
                "data = pd.read_csv('IndieZ.csv')"
            ]
        },
        {
            "attachments": {},
            "cell_type": "markdown",
            "metadata": {
                "azdata_cell_guid": "ace67533-ad2d-4589-beac-b1a6edc6427f"
            },
            "source": [
                "## **1\\. User experience comparison**\n",
                "\n",
                "**Main problem**: Identification for user experience's change between 2 versions.\n",
                "\n",
                "**Hypothesis**: With the given information of bad user experience in the tutorial and my own experience after several test runs, it is apparent that the tutorial section failed to explain the game's rule. I theorized that with the uncertanty of not knowing how to play the game, a good amount of players would struggle at level 1 even though it is supposed to be the easiest level. To be able to prove this, I compiled a query to first acknowledging the tutorial completion rate."
            ]
        },
        {
            "cell_type": "code",
            "execution_count": 3,
            "metadata": {
                "azdata_cell_guid": "7fa9251b-5ec5-4624-ae1a-e9e593f76eb7",
                "language": "sql",
                "tags": [
                    "hide_input"
                ]
            },
            "outputs": [
                {
                    "data": {
                        "text/html": [
                            "<div>\n",
                            "<style scoped>\n",
                            "    .dataframe tbody tr th:only-of-type {\n",
                            "        vertical-align: middle;\n",
                            "    }\n",
                            "\n",
                            "    .dataframe tbody tr th {\n",
                            "        vertical-align: top;\n",
                            "    }\n",
                            "\n",
                            "    .dataframe thead th {\n",
                            "        text-align: right;\n",
                            "    }\n",
                            "</style>\n",
                            "<table border=\"1\" class=\"dataframe\">\n",
                            "  <thead>\n",
                            "    <tr style=\"text-align: right;\">\n",
                            "      <th></th>\n",
                            "      <th>version</th>\n",
                            "      <th>num_of_player</th>\n",
                            "      <th>tut_completed</th>\n",
                            "      <th>tut_complete_percentage</th>\n",
                            "    </tr>\n",
                            "  </thead>\n",
                            "  <tbody>\n",
                            "    <tr>\n",
                            "      <th>0</th>\n",
                            "      <td>1.5.2</td>\n",
                            "      <td>6671</td>\n",
                            "      <td>6341</td>\n",
                            "      <td>95.053215</td>\n",
                            "    </tr>\n",
                            "    <tr>\n",
                            "      <th>1</th>\n",
                            "      <td>1.6.0</td>\n",
                            "      <td>6929</td>\n",
                            "      <td>6571</td>\n",
                            "      <td>94.833309</td>\n",
                            "    </tr>\n",
                            "  </tbody>\n",
                            "</table>\n",
                            "</div>"
                        ],
                        "text/plain": [
                            "  version  num_of_player  tut_completed  tut_complete_percentage\n",
                            "0   1.5.2           6671           6341                95.053215\n",
                            "1   1.6.0           6929           6571                94.833309"
                        ]
                    },
                    "execution_count": 3,
                    "metadata": {},
                    "output_type": "execute_result"
                }
            ],
            "source": [
                "sqldf('''\n",
                "SELECT \n",
                "    nop.version,\n",
                "    nop.user as num_of_player,\n",
                "    notc.user as tut_completed,\n",
                "    (CAST(notc.user as FLOAT) / CAST(nop.user as FLOAT)) *100 \n",
                "        as tut_complete_percentage\n",
                "FROM (\n",
                "    SELECT \n",
                "        version,\n",
                "        COUNT(DISTINCT user) as user \n",
                "    FROM \n",
                "        data\n",
                "    GROUP BY \n",
                "        version\n",
                ") as nop\n",
                "JOIN (\n",
                "    SELECT \n",
                "        version,\n",
                "        COUNT(DISTINCT user) as user\n",
                "    FROM \n",
                "        data\n",
                "    WHERE \n",
                "        quantity = -2 \n",
                "    GROUP BY \n",
                "        version\n",
                ") as notc\n",
                "ON nop.version = notc.version \n",
                "''')"
            ]
        },
        {
            "attachments": {},
            "cell_type": "markdown",
            "metadata": {
                "azdata_cell_guid": "0086adb9-107b-494f-8935-5bdd8cb261c7",
                "language": "sql"
            },
            "source": [
                "The tutorial completion rate is fairly similar across both versions. Then using this information, I complied another query to get the number of players that completed the tutorial but lost at level 1:"
            ]
        },
        {
            "cell_type": "code",
            "execution_count": 4,
            "metadata": {
                "azdata_cell_guid": "3417e20f-4e2c-42fa-bd7a-c9711d10a509",
                "language": "sql",
                "tags": [
                    "hide_input"
                ]
            },
            "outputs": [
                {
                    "data": {
                        "text/html": [
                            "<div>\n",
                            "<style scoped>\n",
                            "    .dataframe tbody tr th:only-of-type {\n",
                            "        vertical-align: middle;\n",
                            "    }\n",
                            "\n",
                            "    .dataframe tbody tr th {\n",
                            "        vertical-align: top;\n",
                            "    }\n",
                            "\n",
                            "    .dataframe thead th {\n",
                            "        text-align: right;\n",
                            "    }\n",
                            "</style>\n",
                            "<table border=\"1\" class=\"dataframe\">\n",
                            "  <thead>\n",
                            "    <tr style=\"text-align: right;\">\n",
                            "      <th></th>\n",
                            "      <th>version</th>\n",
                            "      <th>tut_completed_user</th>\n",
                            "      <th>lv_1_lost_player</th>\n",
                            "      <th>percentage</th>\n",
                            "    </tr>\n",
                            "  </thead>\n",
                            "  <tbody>\n",
                            "    <tr>\n",
                            "      <th>0</th>\n",
                            "      <td>1.5.2</td>\n",
                            "      <td>6341</td>\n",
                            "      <td>1561</td>\n",
                            "      <td>24.62</td>\n",
                            "    </tr>\n",
                            "    <tr>\n",
                            "      <th>1</th>\n",
                            "      <td>1.6.0</td>\n",
                            "      <td>6571</td>\n",
                            "      <td>1373</td>\n",
                            "      <td>20.89</td>\n",
                            "    </tr>\n",
                            "  </tbody>\n",
                            "</table>\n",
                            "</div>"
                        ],
                        "text/plain": [
                            "  version  tut_completed_user  lv_1_lost_player  percentage\n",
                            "0   1.5.2                6341              1561       24.62\n",
                            "1   1.6.0                6571              1373       20.89"
                        ]
                    },
                    "execution_count": 4,
                    "metadata": {},
                    "output_type": "execute_result"
                }
            ],
            "source": [
                "sqldf('''\n",
                "SELECT \n",
                "    tut_complete.version,\n",
                "    tut_complete.user as tut_completed_user,\n",
                "    lv_1_lost.user as lv_1_lost_player,\n",
                "    ROUND(CAST(lv_1_lost.user as FLOAT) / CAST(tut_complete.user as FLOAT) * 100, 2) as percentage\n",
                "FROM (\n",
                "    SELECT \n",
                "        version,\n",
                "        COUNT(DISTINCT user) as user \n",
                "    FROM \n",
                "        data\n",
                "    WHERE \n",
                "        quantity = -2 \n",
                "    GROUP BY \n",
                "        version\n",
                ") as tut_complete\n",
                "JOIN (\n",
                "    SELECT \n",
                "        version,\n",
                "        COUNT(DISTINCT user) as user\n",
                "    FROM \n",
                "        data\n",
                "    WHERE \n",
                "        user IN (\n",
                "            SELECT  \n",
                "                user\n",
                "            FROM \n",
                "                data\n",
                "            WHERE \n",
                "                event_name = 'tutorial' AND quantity = -2) \n",
                "        AND level = 1 AND win = 0\n",
                "    GROUP BY \n",
                "        version\n",
                ") as lv_1_lost\n",
                "ON tut_complete.version = lv_1_lost.version \n",
                "''')"
            ]
        },
        {
            "attachments": {},
            "cell_type": "markdown",
            "metadata": {
                "azdata_cell_guid": "c1e006bc-b37d-4ad8-84a7-41ee48a696ae",
                "language": "sql"
            },
            "source": [
                "Using the same logic as the corellation between the uncertanty of the game's rule and level 1's losing rate, I hypothesized that the number of loses would drop significantly in level 2 since most player would understand how the game works by that time:"
            ]
        },
        {
            "cell_type": "code",
            "execution_count": 5,
            "metadata": {
                "azdata_cell_guid": "f14dea96-851f-4dbc-bf1d-a60e71a7530b",
                "language": "sql"
            },
            "outputs": [
                {
                    "data": {
                        "text/html": [
                            "<div>\n",
                            "<style scoped>\n",
                            "    .dataframe tbody tr th:only-of-type {\n",
                            "        vertical-align: middle;\n",
                            "    }\n",
                            "\n",
                            "    .dataframe tbody tr th {\n",
                            "        vertical-align: top;\n",
                            "    }\n",
                            "\n",
                            "    .dataframe thead th {\n",
                            "        text-align: right;\n",
                            "    }\n",
                            "</style>\n",
                            "<table border=\"1\" class=\"dataframe\">\n",
                            "  <thead>\n",
                            "    <tr style=\"text-align: right;\">\n",
                            "      <th></th>\n",
                            "      <th>version</th>\n",
                            "      <th>num_of_lv_2_player</th>\n",
                            "      <th>lv_2_lost_player</th>\n",
                            "      <th>percentage</th>\n",
                            "    </tr>\n",
                            "  </thead>\n",
                            "  <tbody>\n",
                            "    <tr>\n",
                            "      <th>0</th>\n",
                            "      <td>1.5.2</td>\n",
                            "      <td>6223</td>\n",
                            "      <td>56</td>\n",
                            "      <td>0.90</td>\n",
                            "    </tr>\n",
                            "    <tr>\n",
                            "      <th>1</th>\n",
                            "      <td>1.6.0</td>\n",
                            "      <td>6396</td>\n",
                            "      <td>48</td>\n",
                            "      <td>0.75</td>\n",
                            "    </tr>\n",
                            "  </tbody>\n",
                            "</table>\n",
                            "</div>"
                        ],
                        "text/plain": [
                            "  version  num_of_lv_2_player  lv_2_lost_player  percentage\n",
                            "0   1.5.2                6223                56        0.90\n",
                            "1   1.6.0                6396                48        0.75"
                        ]
                    },
                    "execution_count": 5,
                    "metadata": {},
                    "output_type": "execute_result"
                }
            ],
            "source": [
                "sqldf('''\n",
                "SELECT \n",
                "    tut_complete.version,\n",
                "    tut_complete.player as num_of_lv_2_player,\n",
                "    lost.player as lv_2_lost_player,\n",
                "    ROUND(CAST(lost.player as FLOAT) / CAST(tut_complete.player as FLOAT) * 100, 2) as percentage\n",
                "FROM (\n",
                "    SELECT \n",
                "        version,\n",
                "        COUNT(DISTINCT user) as player \n",
                "    FROM \n",
                "        data\n",
                "    WHERE \n",
                "        level = 2\n",
                "    GROUP BY \n",
                "        version\n",
                ") as tut_complete\n",
                "JOIN (\n",
                "    SELECT \n",
                "        version,\n",
                "        COUNT(DISTINCT user) as player\n",
                "    FROM \n",
                "        data\n",
                "    WHERE \n",
                "        user IN (\n",
                "            SELECT  \n",
                "                user\n",
                "            FROM \n",
                "                data\n",
                "            WHERE \n",
                "                event_name = 'tutorial' AND quantity = -2) \n",
                "            AND \n",
                "                level = 2 AND win = 0\n",
                "    GROUP BY \n",
                "        version\n",
                ") as lost\n",
                "ON tut_complete.version = lost.version\n",
                "''')"
            ]
        },
        {
            "attachments": {},
            "cell_type": "markdown",
            "metadata": {
                "azdata_cell_guid": "09798386-3cb9-4198-be88-d51edac62010"
            },
            "source": [
                "As expected, the lost rate dropped dramatically from more than 20% to less than 1% in both versions. "
            ]
        },
        {
            "cell_type": "markdown",
            "metadata": {},
            "source": [
                "**Key findings**\n",
                "\n",
                "- The bad user experience due to the vague nature of the tutorial section can be identified using the number of player that struggle at the very first level of the game. This can be further confirmed with the significant difference between level 1's lost rate and level 2's lost rate. The lost rate of other levels beyond 1 and 2 are most likely the reflection of the level's difficulty. \n",
                "\n",
                "- There is a significant drop in the percentage of player that completed the tutorial but lost at the first level between 2 versions, which may indicates that the new tutorial is more likely to provide a better user experience. However, further inspection is required to conclude the real impact of version 1.6.0's changes."
            ]
        },
        {
            "cell_type": "markdown",
            "metadata": {},
            "source": [
                "## **2\\. Versions evaluation**\n",
                "\n",
                "**Main problem**: Whether the changes in version 1.6.0 is significant enough to be able to replace version 1.5.2 .\n",
                "\n",
                "**Hypothesis**: Based on the earlier inspection, version 1.6.0 could benefit from further improvement before launch."
            ]
        },
        {
            "cell_type": "markdown",
            "metadata": {},
            "source": [
                "### **Retention rate** \n",
                "\n",
                "Utilized both SQL and pandas, I compiled a data frame to calculate the retention rate of each version: "
            ]
        },
        {
            "cell_type": "code",
            "execution_count": 14,
            "metadata": {},
            "outputs": [],
            "source": [
                "df_152 = sqldf('''\n",
                "    SELECT \n",
                "        day_diff,\n",
                "        COUNT(DISTINCT user) num_of_player\n",
                "    FROM \n",
                "        data \n",
                "    WHERE \n",
                "        version = '1.5.2' \n",
                "    GROUP BY \n",
                "        day_diff\n",
                "''')\n",
                "player_count_152 = data[data['version'] == '1.5.2'].groupby('user')['day_diff'].max().value_counts().sum() \n",
                "\n",
                "df_160 = sqldf('''\n",
                "    SELECT \n",
                "        day_diff,\n",
                "        COUNT(DISTINCT user) num_of_player\n",
                "    FROM \n",
                "        data \n",
                "    WHERE \n",
                "        version = '1.6.0' \n",
                "    GROUP BY \n",
                "        day_diff\n",
                "''')\n",
                "player_count_160 = data[data['version'] == '1.6.0'].groupby('user')['day_diff'].max().value_counts().sum()"
            ]
        },
        {
            "cell_type": "code",
            "execution_count": 36,
            "metadata": {},
            "outputs": [
                {
                    "data": {
                        "text/html": [
                            "<div>\n",
                            "<style scoped>\n",
                            "    .dataframe tbody tr th:only-of-type {\n",
                            "        vertical-align: middle;\n",
                            "    }\n",
                            "\n",
                            "    .dataframe tbody tr th {\n",
                            "        vertical-align: top;\n",
                            "    }\n",
                            "\n",
                            "    .dataframe thead th {\n",
                            "        text-align: right;\n",
                            "    }\n",
                            "</style>\n",
                            "<table border=\"1\" class=\"dataframe\">\n",
                            "  <thead>\n",
                            "    <tr style=\"text-align: right;\">\n",
                            "      <th></th>\n",
                            "      <th>ver_152</th>\n",
                            "      <th>retention_rate_152</th>\n",
                            "      <th>ver_160</th>\n",
                            "      <th>retention_rate_160</th>\n",
                            "    </tr>\n",
                            "    <tr>\n",
                            "      <th>day_dif</th>\n",
                            "      <th></th>\n",
                            "      <th></th>\n",
                            "      <th></th>\n",
                            "      <th></th>\n",
                            "    </tr>\n",
                            "  </thead>\n",
                            "  <tbody>\n",
                            "    <tr>\n",
                            "      <th>1</th>\n",
                            "      <td>1780</td>\n",
                            "      <td>26.68</td>\n",
                            "      <td>1981</td>\n",
                            "      <td>28.59</td>\n",
                            "    </tr>\n",
                            "    <tr>\n",
                            "      <th>2</th>\n",
                            "      <td>891</td>\n",
                            "      <td>13.36</td>\n",
                            "      <td>1036</td>\n",
                            "      <td>14.95</td>\n",
                            "    </tr>\n",
                            "    <tr>\n",
                            "      <th>3</th>\n",
                            "      <td>517</td>\n",
                            "      <td>7.75</td>\n",
                            "      <td>714</td>\n",
                            "      <td>10.30</td>\n",
                            "    </tr>\n",
                            "    <tr>\n",
                            "      <th>4</th>\n",
                            "      <td>385</td>\n",
                            "      <td>5.77</td>\n",
                            "      <td>520</td>\n",
                            "      <td>7.50</td>\n",
                            "    </tr>\n",
                            "    <tr>\n",
                            "      <th>5</th>\n",
                            "      <td>275</td>\n",
                            "      <td>4.12</td>\n",
                            "      <td>423</td>\n",
                            "      <td>6.10</td>\n",
                            "    </tr>\n",
                            "    <tr>\n",
                            "      <th>6</th>\n",
                            "      <td>202</td>\n",
                            "      <td>3.03</td>\n",
                            "      <td>334</td>\n",
                            "      <td>4.82</td>\n",
                            "    </tr>\n",
                            "    <tr>\n",
                            "      <th>7</th>\n",
                            "      <td>183</td>\n",
                            "      <td>2.74</td>\n",
                            "      <td>289</td>\n",
                            "      <td>4.17</td>\n",
                            "    </tr>\n",
                            "  </tbody>\n",
                            "</table>\n",
                            "</div>"
                        ],
                        "text/plain": [
                            "         ver_152  retention_rate_152  ver_160  retention_rate_160\n",
                            "day_dif                                                          \n",
                            "1           1780               26.68     1981               28.59\n",
                            "2            891               13.36     1036               14.95\n",
                            "3            517                7.75      714               10.30\n",
                            "4            385                5.77      520                7.50\n",
                            "5            275                4.12      423                6.10\n",
                            "6            202                3.03      334                4.82\n",
                            "7            183                2.74      289                4.17"
                        ]
                    },
                    "execution_count": 36,
                    "metadata": {},
                    "output_type": "execute_result"
                }
            ],
            "source": [
                "retention_rate = pd.DataFrame({\n",
                "    'ver_152': df_152['num_of_player'],\n",
                "    'retention_rate_152' : round(df_152['num_of_player'] \n",
                "                                 / player_count_152 * 100, 2),\n",
                "    'ver_160': df_160['num_of_player'],\n",
                "    'retention_rate_160' : round(df_160['num_of_player'] \n",
                "                                 / player_count_160 * 100, 2) \n",
                "})\n",
                "retention_rate.index.name = 'day_dif'\n",
                "retention_rate.drop(index = 0, inplace = True)\n",
                "retention_rate"
            ]
        },
        {
            "cell_type": "markdown",
            "metadata": {},
            "source": [
                "The retention rate of day 1 is positive toward version 1.6.0's change, while the retention rate from other days also shows that players were  dropping the game in a slightly lower rate. Due to the lack of experience in the given field, I did some research on the topic of mobile game retention rate and concluded that a day 1 retention rate of 30% is a desirable. With this information, I made a quick calculated field to evaluate the significance of the increased amount. "
            ]
        },
        {
            "cell_type": "code",
            "execution_count": 37,
            "metadata": {},
            "outputs": [],
            "source": [
                "retention_rate['increase_rate'] = round(retention_rate['retention_rate_160'] \n",
                "                                        / retention_rate['retention_rate_152'] * 100 - 100, 2)"
            ]
        },
        {
            "cell_type": "code",
            "execution_count": 38,
            "metadata": {},
            "outputs": [
                {
                    "data": {
                        "text/html": [
                            "<div>\n",
                            "<style scoped>\n",
                            "    .dataframe tbody tr th:only-of-type {\n",
                            "        vertical-align: middle;\n",
                            "    }\n",
                            "\n",
                            "    .dataframe tbody tr th {\n",
                            "        vertical-align: top;\n",
                            "    }\n",
                            "\n",
                            "    .dataframe thead th {\n",
                            "        text-align: right;\n",
                            "    }\n",
                            "</style>\n",
                            "<table border=\"1\" class=\"dataframe\">\n",
                            "  <thead>\n",
                            "    <tr style=\"text-align: right;\">\n",
                            "      <th></th>\n",
                            "      <th>ver_152</th>\n",
                            "      <th>retention_rate_152</th>\n",
                            "      <th>ver_160</th>\n",
                            "      <th>retention_rate_160</th>\n",
                            "      <th>increase_rate</th>\n",
                            "    </tr>\n",
                            "    <tr>\n",
                            "      <th>day_dif</th>\n",
                            "      <th></th>\n",
                            "      <th></th>\n",
                            "      <th></th>\n",
                            "      <th></th>\n",
                            "      <th></th>\n",
                            "    </tr>\n",
                            "  </thead>\n",
                            "  <tbody>\n",
                            "    <tr>\n",
                            "      <th>1</th>\n",
                            "      <td>1780</td>\n",
                            "      <td>26.68</td>\n",
                            "      <td>1981</td>\n",
                            "      <td>28.59</td>\n",
                            "      <td>7.16</td>\n",
                            "    </tr>\n",
                            "  </tbody>\n",
                            "</table>\n",
                            "</div>"
                        ],
                        "text/plain": [
                            "         ver_152  retention_rate_152  ver_160  retention_rate_160  \\\n",
                            "day_dif                                                             \n",
                            "1           1780               26.68     1981               28.59   \n",
                            "\n",
                            "         increase_rate  \n",
                            "day_dif                 \n",
                            "1                 7.16  "
                        ]
                    },
                    "execution_count": 38,
                    "metadata": {},
                    "output_type": "execute_result"
                }
            ],
            "source": [
                "retention_rate[retention_rate.index == 1]"
            ]
        },
        {
            "cell_type": "markdown",
            "metadata": {},
            "source": [
                "With the increase of 7.16%, it is save to conclude that the change is on the favorable side.  "
            ]
        },
        {
            "cell_type": "markdown",
            "metadata": {},
            "source": [
                "### **Checking a variety of other metrics**\n",
                "\n",
                "This section is dedicated to compare several other relevant metrics."
            ]
        },
        {
            "cell_type": "markdown",
            "metadata": {},
            "source": [
                "#### ***The level where most players drop the game*** \n",
                "\n",
                "The initial idea was to check the average of the max level that was played by each player, but due to some outlier in the dataset, a comparison of other statistical status is more suitable. "
            ]
        },
        {
            "cell_type": "code",
            "execution_count": 39,
            "metadata": {},
            "outputs": [
                {
                    "data": {
                        "text/html": [
                            "<div>\n",
                            "<style scoped>\n",
                            "    .dataframe tbody tr th:only-of-type {\n",
                            "        vertical-align: middle;\n",
                            "    }\n",
                            "\n",
                            "    .dataframe tbody tr th {\n",
                            "        vertical-align: top;\n",
                            "    }\n",
                            "\n",
                            "    .dataframe thead th {\n",
                            "        text-align: right;\n",
                            "    }\n",
                            "</style>\n",
                            "<table border=\"1\" class=\"dataframe\">\n",
                            "  <thead>\n",
                            "    <tr style=\"text-align: right;\">\n",
                            "      <th></th>\n",
                            "      <th>stat</th>\n",
                            "      <th>lv_152</th>\n",
                            "      <th>lv_160</th>\n",
                            "    </tr>\n",
                            "  </thead>\n",
                            "  <tbody>\n",
                            "    <tr>\n",
                            "      <th>0</th>\n",
                            "      <td>count</td>\n",
                            "      <td>6671.000000</td>\n",
                            "      <td>6929.000000</td>\n",
                            "    </tr>\n",
                            "    <tr>\n",
                            "      <th>1</th>\n",
                            "      <td>mean</td>\n",
                            "      <td>9.414780</td>\n",
                            "      <td>10.321691</td>\n",
                            "    </tr>\n",
                            "    <tr>\n",
                            "      <th>2</th>\n",
                            "      <td>std</td>\n",
                            "      <td>17.068243</td>\n",
                            "      <td>19.521062</td>\n",
                            "    </tr>\n",
                            "    <tr>\n",
                            "      <th>3</th>\n",
                            "      <td>min</td>\n",
                            "      <td>1.000000</td>\n",
                            "      <td>1.000000</td>\n",
                            "    </tr>\n",
                            "    <tr>\n",
                            "      <th>4</th>\n",
                            "      <td>25%</td>\n",
                            "      <td>3.000000</td>\n",
                            "      <td>4.000000</td>\n",
                            "    </tr>\n",
                            "    <tr>\n",
                            "      <th>5</th>\n",
                            "      <td>50%</td>\n",
                            "      <td>6.000000</td>\n",
                            "      <td>6.000000</td>\n",
                            "    </tr>\n",
                            "    <tr>\n",
                            "      <th>6</th>\n",
                            "      <td>75%</td>\n",
                            "      <td>11.000000</td>\n",
                            "      <td>11.000000</td>\n",
                            "    </tr>\n",
                            "    <tr>\n",
                            "      <th>7</th>\n",
                            "      <td>max</td>\n",
                            "      <td>376.000000</td>\n",
                            "      <td>519.000000</td>\n",
                            "    </tr>\n",
                            "  </tbody>\n",
                            "</table>\n",
                            "</div>"
                        ],
                        "text/plain": [
                            "    stat       lv_152       lv_160\n",
                            "0  count  6671.000000  6929.000000\n",
                            "1   mean     9.414780    10.321691\n",
                            "2    std    17.068243    19.521062\n",
                            "3    min     1.000000     1.000000\n",
                            "4    25%     3.000000     4.000000\n",
                            "5    50%     6.000000     6.000000\n",
                            "6    75%    11.000000    11.000000\n",
                            "7    max   376.000000   519.000000"
                        ]
                    },
                    "execution_count": 39,
                    "metadata": {},
                    "output_type": "execute_result"
                }
            ],
            "source": [
                "max_lv_152 = data[data['version'] == '1.5.2'].groupby('user')['level'].max().describe()\n",
                "max_lv_160 = data[data['version'] == '1.6.0'].groupby('user')['level'].max().describe()\n",
                "\n",
                "max_lv = pd.DataFrame({\n",
                "    'stat' : max_lv_152.index,\n",
                "    'lv_152' : max_lv_152.values,\n",
                "    'lv_160' : max_lv_160.values\n",
                "})\n",
                "\n",
                "max_lv "
            ]
        },
        {
            "cell_type": "markdown",
            "metadata": {},
            "source": [
                "The statistic about max level came out pretty similar for both versions, with most players dropping the game after level 6."
            ]
        },
        {
            "cell_type": "markdown",
            "metadata": {},
            "source": [
                "#### ***Average total playtime across versions***"
            ]
        },
        {
            "cell_type": "code",
            "execution_count": 3,
            "metadata": {},
            "outputs": [
                {
                    "data": {
                        "text/html": [
                            "<div>\n",
                            "<style scoped>\n",
                            "    .dataframe tbody tr th:only-of-type {\n",
                            "        vertical-align: middle;\n",
                            "    }\n",
                            "\n",
                            "    .dataframe tbody tr th {\n",
                            "        vertical-align: top;\n",
                            "    }\n",
                            "\n",
                            "    .dataframe thead th {\n",
                            "        text-align: right;\n",
                            "    }\n",
                            "</style>\n",
                            "<table border=\"1\" class=\"dataframe\">\n",
                            "  <thead>\n",
                            "    <tr style=\"text-align: right;\">\n",
                            "      <th></th>\n",
                            "      <th>ver_152</th>\n",
                            "      <th>ver_160</th>\n",
                            "    </tr>\n",
                            "  </thead>\n",
                            "  <tbody>\n",
                            "    <tr>\n",
                            "      <th>count</th>\n",
                            "      <td>6435.000000</td>\n",
                            "      <td>6607.000000</td>\n",
                            "    </tr>\n",
                            "    <tr>\n",
                            "      <th>mean</th>\n",
                            "      <td>779.674903</td>\n",
                            "      <td>988.136673</td>\n",
                            "    </tr>\n",
                            "    <tr>\n",
                            "      <th>std</th>\n",
                            "      <td>3482.261223</td>\n",
                            "      <td>4342.895857</td>\n",
                            "    </tr>\n",
                            "    <tr>\n",
                            "      <th>min</th>\n",
                            "      <td>6.000000</td>\n",
                            "      <td>7.000000</td>\n",
                            "    </tr>\n",
                            "    <tr>\n",
                            "      <th>25%</th>\n",
                            "      <td>61.000000</td>\n",
                            "      <td>69.000000</td>\n",
                            "    </tr>\n",
                            "    <tr>\n",
                            "      <th>50%</th>\n",
                            "      <td>133.000000</td>\n",
                            "      <td>153.000000</td>\n",
                            "    </tr>\n",
                            "    <tr>\n",
                            "      <th>75%</th>\n",
                            "      <td>372.000000</td>\n",
                            "      <td>451.000000</td>\n",
                            "    </tr>\n",
                            "    <tr>\n",
                            "      <th>max</th>\n",
                            "      <td>97182.000000</td>\n",
                            "      <td>118078.000000</td>\n",
                            "    </tr>\n",
                            "  </tbody>\n",
                            "</table>\n",
                            "</div>"
                        ],
                        "text/plain": [
                            "            ver_152        ver_160\n",
                            "count   6435.000000    6607.000000\n",
                            "mean     779.674903     988.136673\n",
                            "std     3482.261223    4342.895857\n",
                            "min        6.000000       7.000000\n",
                            "25%       61.000000      69.000000\n",
                            "50%      133.000000     153.000000\n",
                            "75%      372.000000     451.000000\n",
                            "max    97182.000000  118078.000000"
                        ]
                    },
                    "execution_count": 3,
                    "metadata": {},
                    "output_type": "execute_result"
                }
            ],
            "source": [
                "df_playtime = sqldf('''\n",
                "SELECT \n",
                "    user,\n",
                "    SUM(quantity) as play_time,\n",
                "    version\n",
                "FROM \n",
                "    data \n",
                "WHERE \n",
                "    event_name = 'game_end' \n",
                "GROUP BY \n",
                "    user \n",
                "''')\n",
                "\n",
                "playtime_152 = df_playtime[df_playtime['version'] == '1.5.2'].describe()\n",
                "playtime_160 = df_playtime[df_playtime['version'] == '1.6.0'].describe()\n",
                "\n",
                "playtime = pd.DataFrame({\n",
                "    'ver_152' : playtime_152['play_time'],\n",
                "    'ver_160' : playtime_160['play_time']\n",
                "})\n",
                "playtime"
            ]
        },
        {
            "cell_type": "markdown",
            "metadata": {},
            "source": [
                "The playtime increased modestly in version 1.6.0 with positive return on mean, median and both first and third quartiles. But similar to other statistic, its significance can be questioned further.   "
            ]
        },
        {
            "cell_type": "markdown",
            "metadata": {},
            "source": [
                "#### **_Average total user engagement_**"
            ]
        },
        {
            "cell_type": "code",
            "execution_count": 4,
            "metadata": {},
            "outputs": [
                {
                    "data": {
                        "text/html": [
                            "<div>\n",
                            "<style scoped>\n",
                            "    .dataframe tbody tr th:only-of-type {\n",
                            "        vertical-align: middle;\n",
                            "    }\n",
                            "\n",
                            "    .dataframe tbody tr th {\n",
                            "        vertical-align: top;\n",
                            "    }\n",
                            "\n",
                            "    .dataframe thead th {\n",
                            "        text-align: right;\n",
                            "    }\n",
                            "</style>\n",
                            "<table border=\"1\" class=\"dataframe\">\n",
                            "  <thead>\n",
                            "    <tr style=\"text-align: right;\">\n",
                            "      <th></th>\n",
                            "      <th>ver_152</th>\n",
                            "      <th>ver_160</th>\n",
                            "    </tr>\n",
                            "  </thead>\n",
                            "  <tbody>\n",
                            "    <tr>\n",
                            "      <th>count</th>\n",
                            "      <td>6671.000000</td>\n",
                            "      <td>6911.000000</td>\n",
                            "    </tr>\n",
                            "    <tr>\n",
                            "      <th>mean</th>\n",
                            "      <td>13.515815</td>\n",
                            "      <td>15.350166</td>\n",
                            "    </tr>\n",
                            "    <tr>\n",
                            "      <th>std</th>\n",
                            "      <td>35.046254</td>\n",
                            "      <td>34.540717</td>\n",
                            "    </tr>\n",
                            "    <tr>\n",
                            "      <th>min</th>\n",
                            "      <td>1.000000</td>\n",
                            "      <td>1.000000</td>\n",
                            "    </tr>\n",
                            "    <tr>\n",
                            "      <th>25%</th>\n",
                            "      <td>3.000000</td>\n",
                            "      <td>4.000000</td>\n",
                            "    </tr>\n",
                            "    <tr>\n",
                            "      <th>50%</th>\n",
                            "      <td>6.000000</td>\n",
                            "      <td>7.000000</td>\n",
                            "    </tr>\n",
                            "    <tr>\n",
                            "      <th>75%</th>\n",
                            "      <td>13.000000</td>\n",
                            "      <td>14.000000</td>\n",
                            "    </tr>\n",
                            "    <tr>\n",
                            "      <th>max</th>\n",
                            "      <td>1276.000000</td>\n",
                            "      <td>952.000000</td>\n",
                            "    </tr>\n",
                            "  </tbody>\n",
                            "</table>\n",
                            "</div>"
                        ],
                        "text/plain": [
                            "           ver_152      ver_160\n",
                            "count  6671.000000  6911.000000\n",
                            "mean     13.515815    15.350166\n",
                            "std      35.046254    34.540717\n",
                            "min       1.000000     1.000000\n",
                            "25%       3.000000     4.000000\n",
                            "50%       6.000000     7.000000\n",
                            "75%      13.000000    14.000000\n",
                            "max    1276.000000   952.000000"
                        ]
                    },
                    "execution_count": 4,
                    "metadata": {},
                    "output_type": "execute_result"
                }
            ],
            "source": [
                "df_ue = sqldf('''\n",
                "SELECT \n",
                "    user,\n",
                "    COUNT(event_name) as user_engagement,\n",
                "    version\n",
                "FROM \n",
                "    data \n",
                "WHERE \n",
                "    event_name = 'user_engagement' \n",
                "GROUP BY \n",
                "    user \n",
                "''')\n",
                "\n",
                "ue_152 = df_ue[df_ue['version'] == '1.5.2'].describe()\n",
                "ue_160 = df_ue[df_ue['version'] == '1.6.0'].describe()\n",
                "\n",
                "ue = pd.DataFrame({\n",
                "    'ver_152' : ue_152['user_engagement'],\n",
                "    'ver_160' : ue_160['user_engagement']\n",
                "})\n",
                "ue"
            ]
        },
        {
            "cell_type": "markdown",
            "metadata": {},
            "source": [
                "All 3 quartiles return with one engagement difference from version 1.5.2 to 1.6.0. "
            ]
        },
        {
            "cell_type": "markdown",
            "metadata": {},
            "source": [
                "**Key findings**\n",
                "\n",
                "- Version 1.6.0 returns positive on all relevant aspects, including retention rate, playtime and user engagement count. However, the increased number can be deemed insignificant depending on the business objective. \n",
                "\n",
                "**Acknowledgement**\n",
                "\n",
                "- Due to the lack of experience in the given field, my judgement on the statistical significance of version 1.6.0's positive return might not be reliable. Nevertheless, I still believe that version 1.6.0 can benefit from further improvement before launching in order to yield better result.  "
            ]
        },
        {
            "cell_type": "markdown",
            "metadata": {},
            "source": [
                "## 3\\. **Recommendation**\n",
                "\n",
                "**Keep a minimal aesthetic**\n",
                "\n",
                "- When playing the game, I found that the transition to the final artwork was somewhat satisfying. This satisfaction could be enhanced with a minial level UI with only neccessary color to instruct the player (slide 1). The transition from a barely nothing screen to a colorfull illustration may provide a better user satisfaction. \n",
                "\n",
                "**Illustration**: https://view.genial.ly/661f45f4619969001404849b/presentation-indiez-tutorial-ui-demo \n",
                "\n",
                "**Emphasize the color**\n",
                "\n",
                "- One issue I had with the tutorial was the red circle that highlight the number. I would prefer something similar to the illustration for more visual clarity and better gamerule understanding (slide 2). \n",
                "\n",
                "- Since the game has a colorful theme, it would be reasonable to emphasize it with color. My idea of integrating the theme of color to the game is to highlight different elements of the tutorial using different colors. For example, the tutorial in version 1.6.0 can be greatly improved using a color highlighter and animation to instruct player (slide 2). The same priciple can be applied to when player complete a row or column (slide 3). \n",
                "\n"
            ]
        }
    ],
    "metadata": {
        "kernelspec": {
            "display_name": "Python 3",
            "language": "python",
            "name": "python3"
        },
        "language_info": {
            "codemirror_mode": {
                "name": "ipython",
                "version": 3
            },
            "file_extension": ".py",
            "mimetype": "text/x-python",
            "name": "python",
            "nbconvert_exporter": "python",
            "pygments_lexer": "ipython3",
            "version": "3.12.2"
        }
    },
    "nbformat": 4,
    "nbformat_minor": 2
}
