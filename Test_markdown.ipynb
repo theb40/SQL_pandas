{
    "cells": [
        {
            "cell_type": "code",
            "execution_count": 2,
            "metadata": {},
            "outputs": [
                {
                    "name": "stderr",
                    "output_type": "stream",
                    "text": [
                        "C:\\Users\\Admin\\AppData\\Local\\Temp\\ipykernel_19264\\3183896952.py:1: DeprecationWarning: \n",
                        "Pyarrow will become a required dependency of pandas in the next major release of pandas (pandas 3.0),\n",
                        "(to allow more performant data types, such as the Arrow string type, and better interoperability with other libraries)\n",
                        "but was not found to be installed on your system.\n",
                        "If this would cause problems for you,\n",
                        "please provide us feedback at https://github.com/pandas-dev/pandas/issues/54466\n",
                        "        \n",
                        "  import pandas as pd\n"
                    ]
                }
            ],
            "source": [
                "import pandas as pd \n",
                "import pyodbc"
            ]
        },
        {
            "attachments": {},
            "cell_type": "markdown",
            "metadata": {
                "azdata_cell_guid": "ace67533-ad2d-4589-beac-b1a6edc6427f"
            },
            "source": [
                "## **1\\. User experience comparison**\n",
                "\n",
                "**Main problem**: Identification for user experience's change between 2 versions.\n",
                "\n",
                "**Hypothesis**<span style=\"background-color: rgb(43, 43, 43); color: var(--vscode-foreground);\">: With the given information of bad user experience in the tutorial and my own experience after several test runs, it is apparent that the tutorial section failed to explain the game's rule. I theorized that with the uncertanty of not knowing how to play the game, a good amount of players would struggle at level 1 eventhough it is supposed to be the easiest level but. To be able to prove this, I compiled a query to first acknowledging the tutorial completion rate.&nbsp;</span>"
            ]
        },
        {
            "cell_type": "code",
            "execution_count": 4,
            "metadata": {
                "azdata_cell_guid": "7fa9251b-5ec5-4624-ae1a-e9e593f76eb7",
                "language": "sql",
                "tags": [
                    "hide_input"
                ],
                "vscode": {
                    "languageId": "sql"
                }
            },
            "outputs": [
                {
                    "ename": "IndentationError",
                    "evalue": "unexpected indent (609922207.py, line 2)",
                    "output_type": "error",
                    "traceback": [
                        "\u001b[1;36m  Cell \u001b[1;32mIn[4], line 2\u001b[1;36m\u001b[0m\n\u001b[1;33m    nop.game_vers,\u001b[0m\n\u001b[1;37m    ^\u001b[0m\n\u001b[1;31mIndentationError\u001b[0m\u001b[1;31m:\u001b[0m unexpected indent\n"
                    ]
                }
            ],
            "source": [
                "SELECT \n",
                "    nop.game_vers,\n",
                "    nop.player as num_of_player,\n",
                "    notc.player as tut_completed,\n",
                "    (CAST(notc.player as FLOAT) / CAST(nop.player as FLOAT)) *100 \n",
                "        as tut_complete_percentage\n",
                "FROM (\n",
                "    SELECT \n",
                "        game_vers,\n",
                "        COUNT(DISTINCT player) as player \n",
                "    FROM \n",
                "        IndieZ_160..pixel_art\n",
                "    GROUP BY \n",
                "        game_vers\n",
                ") as nop\n",
                "JOIN (\n",
                "    SELECT \n",
                "        game_vers,\n",
                "        COUNT(DISTINCT player) as player \n",
                "    FROM \n",
                "        IndieZ_160..pixel_art\n",
                "    WHERE \n",
                "        quantity = -2 \n",
                "    GROUP BY \n",
                "        game_vers\n",
                ") as notc\n",
                "ON nop.game_vers = notc.game_vers \n"
            ]
        },
        {
            "attachments": {},
            "cell_type": "markdown",
            "metadata": {
                "azdata_cell_guid": "0086adb9-107b-494f-8935-5bdd8cb261c7",
                "language": "sql"
            },
            "source": [
                "The tutorial completion rate is fairly similar across both versions. Then using this information, I complied another query to get the number of players that completed the tutorial but lost at level 1:"
            ]
        },
        {
            "cell_type": "code",
            "execution_count": 3,
            "metadata": {
                "azdata_cell_guid": "3417e20f-4e2c-42fa-bd7a-c9711d10a509",
                "language": "sql",
                "tags": [
                    "hide_input"
                ],
                "vscode": {
                    "languageId": "sql"
                }
            },
            "outputs": [
                {
                    "data": {
                        "text/html": [
                            "(2 rows affected)"
                        ]
                    },
                    "metadata": {},
                    "output_type": "display_data"
                },
                {
                    "data": {
                        "text/html": [
                            "Total execution time: 00:00:00.492"
                        ]
                    },
                    "metadata": {},
                    "output_type": "display_data"
                },
                {
                    "data": {
                        "application/vnd.dataresource+json": {
                            "data": [
                                {
                                    "game_vers": "1.5.2",
                                    "lv_1_lost_player": "1561",
                                    "percentage": "24.62",
                                    "tut_completed_player": "6341"
                                },
                                {
                                    "game_vers": "1.6.0",
                                    "lv_1_lost_player": "1373",
                                    "percentage": "20.89",
                                    "tut_completed_player": "6571"
                                }
                            ],
                            "schema": {
                                "fields": [
                                    {
                                        "name": "game_vers"
                                    },
                                    {
                                        "name": "tut_completed_player"
                                    },
                                    {
                                        "name": "lv_1_lost_player"
                                    },
                                    {
                                        "name": "percentage"
                                    }
                                ]
                            }
                        },
                        "text/html": [
                            "<table><tr><th>game_vers</th><th>tut_completed_player</th><th>lv_1_lost_player</th><th>percentage</th></tr><tr><td>1.5.2</td><td>6341</td><td>1561</td><td>24.62</td></tr><tr><td>1.6.0</td><td>6571</td><td>1373</td><td>20.89</td></tr></table>"
                        ]
                    },
                    "execution_count": 3,
                    "metadata": {},
                    "output_type": "execute_result"
                }
            ],
            "source": [
                "SELECT \n",
                "    tut_complete.game_vers,\n",
                "    tut_complete.player as tut_completed_player,\n",
                "    lv_1_lost.player as lv_1_lost_player,\n",
                "    ROUND(CAST(lv_1_lost.player as FLOAT) / CAST(tut_complete.player as FLOAT) * 100, 2) as percentage\n",
                "FROM (\n",
                "    SELECT \n",
                "        game_vers,\n",
                "        COUNT(DISTINCT player) as player \n",
                "    FROM \n",
                "        IndieZ_160..pixel_art\n",
                "    WHERE \n",
                "        quantity = -2 \n",
                "    GROUP BY \n",
                "        game_vers\n",
                ") as tut_complete\n",
                "JOIN (\n",
                "    SELECT \n",
                "        game_vers,\n",
                "        COUNT(DISTINCT player) as player\n",
                "    FROM \n",
                "        IndieZ_160..pixel_art\n",
                "    WHERE \n",
                "        player IN (\n",
                "            SELECT  \n",
                "                player\n",
                "            FROM \n",
                "                IndieZ_160..pixel_art\n",
                "            WHERE \n",
                "                event_name = 'tutorial' AND quantity = -2) \n",
                "        AND level = 1 AND win = 0\n",
                "    GROUP BY \n",
                "        game_vers\n",
                ") as lv_1_lost\n",
                "ON tut_complete.game_vers = lv_1_lost.game_vers "
            ]
        },
        {
            "attachments": {},
            "cell_type": "markdown",
            "metadata": {
                "azdata_cell_guid": "c1e006bc-b37d-4ad8-84a7-41ee48a696ae",
                "language": "sql"
            },
            "source": [
                "Using the same logic as the corellation between the uncertanty of the game's rule and level 1's losing rate, I hypothesized that the number of loses would drop significantly in level 2 since most player would understand how the game works by that time:"
            ]
        },
        {
            "cell_type": "code",
            "execution_count": 4,
            "metadata": {
                "azdata_cell_guid": "f14dea96-851f-4dbc-bf1d-a60e71a7530b",
                "language": "sql",
                "tags": [
                    "hide_input"
                ],
                "vscode": {
                    "languageId": "sql"
                }
            },
            "outputs": [
                {
                    "data": {
                        "text/html": [
                            "(2 rows affected)"
                        ]
                    },
                    "metadata": {},
                    "output_type": "display_data"
                },
                {
                    "data": {
                        "text/html": [
                            "Total execution time: 00:00:00.462"
                        ]
                    },
                    "metadata": {},
                    "output_type": "display_data"
                },
                {
                    "data": {
                        "application/vnd.dataresource+json": {
                            "data": [
                                {
                                    "game_vers": "1.5.2",
                                    "lv_2_lost_player": "56",
                                    "num_of_lv_2_player": "6223",
                                    "percentage": "0.9"
                                },
                                {
                                    "game_vers": "1.6.0",
                                    "lv_2_lost_player": "48",
                                    "num_of_lv_2_player": "6396",
                                    "percentage": "0.75"
                                }
                            ],
                            "schema": {
                                "fields": [
                                    {
                                        "name": "game_vers"
                                    },
                                    {
                                        "name": "num_of_lv_2_player"
                                    },
                                    {
                                        "name": "lv_2_lost_player"
                                    },
                                    {
                                        "name": "percentage"
                                    }
                                ]
                            }
                        },
                        "text/html": [
                            "<table><tr><th>game_vers</th><th>num_of_lv_2_player</th><th>lv_2_lost_player</th><th>percentage</th></tr><tr><td>1.5.2</td><td>6223</td><td>56</td><td>0.9</td></tr><tr><td>1.6.0</td><td>6396</td><td>48</td><td>0.75</td></tr></table>"
                        ]
                    },
                    "execution_count": 4,
                    "metadata": {},
                    "output_type": "execute_result"
                }
            ],
            "source": [
                "SELECT \n",
                "    tut_complete.game_vers,\n",
                "    tut_complete.player as num_of_lv_2_player,\n",
                "    lost.player as lv_2_lost_player,\n",
                "    ROUND(CAST(lost.player as FLOAT) / CAST(tut_complete.player as FLOAT) * 100, 2) as percentage\n",
                "FROM (\n",
                "    SELECT \n",
                "        game_vers,\n",
                "        COUNT(DISTINCT player) as player \n",
                "    FROM \n",
                "        IndieZ_160..pixel_art\n",
                "    WHERE \n",
                "        level = 2\n",
                "    GROUP BY \n",
                "        game_vers\n",
                ") as tut_complete\n",
                "JOIN (\n",
                "    SELECT \n",
                "        game_vers,\n",
                "        COUNT(DISTINCT player) as player\n",
                "    FROM \n",
                "        IndieZ_160..pixel_art\n",
                "    WHERE \n",
                "        player IN (\n",
                "            SELECT  \n",
                "                player\n",
                "            FROM \n",
                "                IndieZ_160..pixel_art\n",
                "            WHERE \n",
                "                event_name = 'tutorial' AND quantity = -2) \n",
                "            AND \n",
                "                level = 2 AND win = 0\n",
                "    GROUP BY \n",
                "        game_vers\n",
                ") as lost\n",
                "ON tut_complete.game_vers = lost.game_vers "
            ]
        },
        {
            "attachments": {},
            "cell_type": "markdown",
            "metadata": {
                "azdata_cell_guid": "09798386-3cb9-4198-be88-d51edac62010"
            },
            "source": [
                "As expected, the lost rate dropped dramatically from more than 20% to less than 1% in both versions."
            ]
        }
    ],
    "metadata": {
        "kernelspec": {
            "display_name": "Python 3",
            "language": "python",
            "name": "python3"
        },
        "language_info": {
            "codemirror_mode": {
                "name": "ipython",
                "version": 3
            },
            "file_extension": ".py",
            "mimetype": "text/x-python",
            "name": "python",
            "nbconvert_exporter": "python",
            "pygments_lexer": "ipython3",
            "version": "3.12.2"
        }
    },
    "nbformat": 4,
    "nbformat_minor": 2
}
