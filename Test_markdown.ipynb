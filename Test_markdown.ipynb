{
    "cells": [
        {
            "cell_type": "code",
            "execution_count": 3,
            "metadata": {},
            "outputs": [],
            "source": [
                "import pandas as pd  # type: ignore\n",
                "from pandasql import sqldf # type: ignore\n",
                "data = pd.read_csv('IndieZ.csv')"
            ]
        },
        {
            "attachments": {},
            "cell_type": "markdown",
            "metadata": {
                "azdata_cell_guid": "ace67533-ad2d-4589-beac-b1a6edc6427f"
            },
            "source": [
                "## **1\\. User experience comparison**\n",
                "\n",
                "**Main problem**: Identification for user experience's change between 2 versions.\n",
                "\n",
                "**Hypothesis**: With the given information of bad user experience in the tutorial and my own experience after several test runs, it is apparent that the tutorial section failed to explain the game's rule. I theorized that with the uncertanty of not knowing how to play the game, a good amount of players would struggle at level 1 even though it is supposed to be the easiest level but. To be able to prove this, I compiled a query to first acknowledging the tutorial completion rate."
            ]
        },
        {
            "cell_type": "code",
            "execution_count": 2,
            "metadata": {
                "azdata_cell_guid": "7fa9251b-5ec5-4624-ae1a-e9e593f76eb7",
                "language": "sql",
                "tags": [
                    "hide_input"
                ]
            },
            "outputs": [
                {
                    "data": {
                        "text/html": [
                            "<div>\n",
                            "<style scoped>\n",
                            "    .dataframe tbody tr th:only-of-type {\n",
                            "        vertical-align: middle;\n",
                            "    }\n",
                            "\n",
                            "    .dataframe tbody tr th {\n",
                            "        vertical-align: top;\n",
                            "    }\n",
                            "\n",
                            "    .dataframe thead th {\n",
                            "        text-align: right;\n",
                            "    }\n",
                            "</style>\n",
                            "<table border=\"1\" class=\"dataframe\">\n",
                            "  <thead>\n",
                            "    <tr style=\"text-align: right;\">\n",
                            "      <th></th>\n",
                            "      <th>version</th>\n",
                            "      <th>num_of_player</th>\n",
                            "      <th>tut_completed</th>\n",
                            "      <th>tut_complete_percentage</th>\n",
                            "    </tr>\n",
                            "  </thead>\n",
                            "  <tbody>\n",
                            "    <tr>\n",
                            "      <th>0</th>\n",
                            "      <td>1.5.2</td>\n",
                            "      <td>6671</td>\n",
                            "      <td>6341</td>\n",
                            "      <td>95.053215</td>\n",
                            "    </tr>\n",
                            "    <tr>\n",
                            "      <th>1</th>\n",
                            "      <td>1.6.0</td>\n",
                            "      <td>6929</td>\n",
                            "      <td>6571</td>\n",
                            "      <td>94.833309</td>\n",
                            "    </tr>\n",
                            "  </tbody>\n",
                            "</table>\n",
                            "</div>"
                        ],
                        "text/plain": [
                            "  version  num_of_player  tut_completed  tut_complete_percentage\n",
                            "0   1.5.2           6671           6341                95.053215\n",
                            "1   1.6.0           6929           6571                94.833309"
                        ]
                    },
                    "execution_count": 2,
                    "metadata": {},
                    "output_type": "execute_result"
                }
            ],
            "source": [
                "sqldf('''\n",
                "SELECT \n",
                "    nop.version,\n",
                "    nop.user as num_of_player,\n",
                "    notc.user as tut_completed,\n",
                "    (CAST(notc.user as FLOAT) / CAST(nop.user as FLOAT)) *100 \n",
                "        as tut_complete_percentage\n",
                "FROM (\n",
                "    SELECT \n",
                "        version,\n",
                "        COUNT(DISTINCT user) as user \n",
                "    FROM \n",
                "        data\n",
                "    GROUP BY \n",
                "        version\n",
                ") as nop\n",
                "JOIN (\n",
                "    SELECT \n",
                "        version,\n",
                "        COUNT(DISTINCT user) as user\n",
                "    FROM \n",
                "        data\n",
                "    WHERE \n",
                "        quantity = -2 \n",
                "    GROUP BY \n",
                "        version\n",
                ") as notc\n",
                "ON nop.version = notc.version \n",
                "''')"
            ]
        },
        {
            "attachments": {},
            "cell_type": "markdown",
            "metadata": {
                "azdata_cell_guid": "0086adb9-107b-494f-8935-5bdd8cb261c7",
                "language": "sql"
            },
            "source": [
                "The tutorial completion rate is fairly similar across both versions. Then using this information, I complied another query to get the number of players that completed the tutorial but lost at level 1:"
            ]
        },
        {
            "cell_type": "code",
            "execution_count": 4,
            "metadata": {
                "azdata_cell_guid": "3417e20f-4e2c-42fa-bd7a-c9711d10a509",
                "language": "sql",
                "tags": [
                    "hide_input"
                ]
            },
            "outputs": [
                {
                    "data": {
                        "text/html": [
                            "<div>\n",
                            "<style scoped>\n",
                            "    .dataframe tbody tr th:only-of-type {\n",
                            "        vertical-align: middle;\n",
                            "    }\n",
                            "\n",
                            "    .dataframe tbody tr th {\n",
                            "        vertical-align: top;\n",
                            "    }\n",
                            "\n",
                            "    .dataframe thead th {\n",
                            "        text-align: right;\n",
                            "    }\n",
                            "</style>\n",
                            "<table border=\"1\" class=\"dataframe\">\n",
                            "  <thead>\n",
                            "    <tr style=\"text-align: right;\">\n",
                            "      <th></th>\n",
                            "      <th>version</th>\n",
                            "      <th>tut_completed_user</th>\n",
                            "      <th>lv_1_lost_player</th>\n",
                            "      <th>percentage</th>\n",
                            "    </tr>\n",
                            "  </thead>\n",
                            "  <tbody>\n",
                            "    <tr>\n",
                            "      <th>0</th>\n",
                            "      <td>1.5.2</td>\n",
                            "      <td>6341</td>\n",
                            "      <td>1561</td>\n",
                            "      <td>24.62</td>\n",
                            "    </tr>\n",
                            "    <tr>\n",
                            "      <th>1</th>\n",
                            "      <td>1.6.0</td>\n",
                            "      <td>6571</td>\n",
                            "      <td>1373</td>\n",
                            "      <td>20.89</td>\n",
                            "    </tr>\n",
                            "  </tbody>\n",
                            "</table>\n",
                            "</div>"
                        ],
                        "text/plain": [
                            "  version  tut_completed_user  lv_1_lost_player  percentage\n",
                            "0   1.5.2                6341              1561       24.62\n",
                            "1   1.6.0                6571              1373       20.89"
                        ]
                    },
                    "execution_count": 4,
                    "metadata": {},
                    "output_type": "execute_result"
                }
            ],
            "source": [
                "sqldf('''\n",
                "SELECT \n",
                "    tut_complete.version,\n",
                "    tut_complete.user as tut_completed_user,\n",
                "    lv_1_lost.user as lv_1_lost_player,\n",
                "    ROUND(CAST(lv_1_lost.user as FLOAT) / CAST(tut_complete.user as FLOAT) * 100, 2) as percentage\n",
                "FROM (\n",
                "    SELECT \n",
                "        version,\n",
                "        COUNT(DISTINCT user) as user \n",
                "    FROM \n",
                "        data\n",
                "    WHERE \n",
                "        quantity = -2 \n",
                "    GROUP BY \n",
                "        version\n",
                ") as tut_complete\n",
                "JOIN (\n",
                "    SELECT \n",
                "        version,\n",
                "        COUNT(DISTINCT user) as user\n",
                "    FROM \n",
                "        data\n",
                "    WHERE \n",
                "        user IN (\n",
                "            SELECT  \n",
                "                user\n",
                "            FROM \n",
                "                data\n",
                "            WHERE \n",
                "                event_name = 'tutorial' AND quantity = -2) \n",
                "        AND level = 1 AND win = 0\n",
                "    GROUP BY \n",
                "        version\n",
                ") as lv_1_lost\n",
                "ON tut_complete.version = lv_1_lost.version \n",
                "''')"
            ]
        },
        {
            "attachments": {},
            "cell_type": "markdown",
            "metadata": {
                "azdata_cell_guid": "c1e006bc-b37d-4ad8-84a7-41ee48a696ae",
                "language": "sql"
            },
            "source": [
                "Using the same logic as the corellation between the uncertanty of the game's rule and level 1's losing rate, I hypothesized that the number of loses would drop significantly in level 2 since most player would understand how the game works by that time:"
            ]
        },
        {
            "cell_type": "code",
            "execution_count": 6,
            "metadata": {
                "azdata_cell_guid": "f14dea96-851f-4dbc-bf1d-a60e71a7530b",
                "language": "sql"
            },
            "outputs": [
                {
                    "data": {
                        "text/html": [
                            "<div>\n",
                            "<style scoped>\n",
                            "    .dataframe tbody tr th:only-of-type {\n",
                            "        vertical-align: middle;\n",
                            "    }\n",
                            "\n",
                            "    .dataframe tbody tr th {\n",
                            "        vertical-align: top;\n",
                            "    }\n",
                            "\n",
                            "    .dataframe thead th {\n",
                            "        text-align: right;\n",
                            "    }\n",
                            "</style>\n",
                            "<table border=\"1\" class=\"dataframe\">\n",
                            "  <thead>\n",
                            "    <tr style=\"text-align: right;\">\n",
                            "      <th></th>\n",
                            "      <th>version</th>\n",
                            "      <th>num_of_lv_2_player</th>\n",
                            "      <th>lv_2_lost_player</th>\n",
                            "      <th>percentage</th>\n",
                            "    </tr>\n",
                            "  </thead>\n",
                            "  <tbody>\n",
                            "    <tr>\n",
                            "      <th>0</th>\n",
                            "      <td>1.5.2</td>\n",
                            "      <td>6223</td>\n",
                            "      <td>56</td>\n",
                            "      <td>0.90</td>\n",
                            "    </tr>\n",
                            "    <tr>\n",
                            "      <th>1</th>\n",
                            "      <td>1.6.0</td>\n",
                            "      <td>6396</td>\n",
                            "      <td>48</td>\n",
                            "      <td>0.75</td>\n",
                            "    </tr>\n",
                            "  </tbody>\n",
                            "</table>\n",
                            "</div>"
                        ],
                        "text/plain": [
                            "  version  num_of_lv_2_player  lv_2_lost_player  percentage\n",
                            "0   1.5.2                6223                56        0.90\n",
                            "1   1.6.0                6396                48        0.75"
                        ]
                    },
                    "execution_count": 6,
                    "metadata": {},
                    "output_type": "execute_result"
                }
            ],
            "source": [
                "sqldf('''\n",
                "SELECT \n",
                "    tut_complete.version,\n",
                "    tut_complete.player as num_of_lv_2_player,\n",
                "    lost.player as lv_2_lost_player,\n",
                "    ROUND(CAST(lost.player as FLOAT) / CAST(tut_complete.player as FLOAT) * 100, 2) as percentage\n",
                "FROM (\n",
                "    SELECT \n",
                "        version,\n",
                "        COUNT(DISTINCT user) as player \n",
                "    FROM \n",
                "        data\n",
                "    WHERE \n",
                "        level = 2\n",
                "    GROUP BY \n",
                "        version\n",
                ") as tut_complete\n",
                "JOIN (\n",
                "    SELECT \n",
                "        version,\n",
                "        COUNT(DISTINCT user) as player\n",
                "    FROM \n",
                "        data\n",
                "    WHERE \n",
                "        user IN (\n",
                "            SELECT  \n",
                "                user\n",
                "            FROM \n",
                "                data\n",
                "            WHERE \n",
                "                event_name = 'tutorial' AND quantity = -2) \n",
                "            AND \n",
                "                level = 2 AND win = 0\n",
                "    GROUP BY \n",
                "        version\n",
                ") as lost\n",
                "ON tut_complete.version = lost.version\n",
                "''')"
            ]
        },
        {
            "attachments": {},
            "cell_type": "markdown",
            "metadata": {
                "azdata_cell_guid": "09798386-3cb9-4198-be88-d51edac62010"
            },
            "source": [
                "As expected, the lost rate dropped dramatically from more than 20% to less than 1% in both versions."
            ]
        }
    ],
    "metadata": {
        "kernelspec": {
            "display_name": "Python 3",
            "language": "python",
            "name": "python3"
        },
        "language_info": {
            "codemirror_mode": {
                "name": "ipython",
                "version": 3
            },
            "file_extension": ".py",
            "mimetype": "text/x-python",
            "name": "python",
            "nbconvert_exporter": "python",
            "pygments_lexer": "ipython3",
            "version": "3.12.2"
        }
    },
    "nbformat": 4,
    "nbformat_minor": 2
}
